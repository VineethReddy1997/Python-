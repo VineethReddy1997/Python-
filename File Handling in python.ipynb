{
 "cells": [
  {
   "cell_type": "markdown",
   "id": "96e29687",
   "metadata": {},
   "source": [
    "# File Hanndling in python"
   ]
  },
  {
   "cell_type": "raw",
   "id": "8fe70f24",
   "metadata": {},
   "source": [
    "writing data to the file\n",
    "reading data from the file \n",
    "appending data to the file\n",
    "\n",
    "writing --> w  (file creting and writing the data)\n",
    "reading --> r   (reading the data  file )\n",
    "append  --> a    (appending the new data to file)\n",
    "reanding and writing --> r+  (reand and  write the data at a time )"
   ]
  },
  {
   "cell_type": "code",
   "execution_count": 6,
   "id": "24e65712",
   "metadata": {},
   "outputs": [
    {
     "name": "stdout",
     "output_type": "stream",
     "text": [
      "success fully file created\n"
     ]
    }
   ],
   "source": [
    "#writing --> w  (file creting and writing the data)\n",
    "\n",
    "f = open(\"my_file.txt\",'w')\n",
    "\n",
    "f.write('This is vineeth redy i m basically from palvancha ')\n",
    "\n",
    "f.close()\n",
    "print('success fully file created')"
   ]
  },
  {
   "cell_type": "code",
   "execution_count": 7,
   "id": "b045d384",
   "metadata": {},
   "outputs": [
    {
     "name": "stdout",
     "output_type": "stream",
     "text": [
      "success fully appending to existing file\n"
     ]
    }
   ],
   "source": [
    "# append  --> a    (appending the new data to file)\n",
    "f = open(\"my_file.txt\",'a')\n",
    "\n",
    "f.write('I am learning data science course from past 3 months  ')\n",
    "\n",
    "f.close()\n",
    "print('success fully appending to existing file')"
   ]
  },
  {
   "cell_type": "code",
   "execution_count": 8,
   "id": "846e9c5f",
   "metadata": {},
   "outputs": [
    {
     "name": "stdout",
     "output_type": "stream",
     "text": [
      "This is vineeth redy i m basically from palvancha I am learning data science course from past 3 months  \n"
     ]
    }
   ],
   "source": [
    "# reading --> r   (reading the data  file )\n",
    "f = open(\"my_file.txt\",'r')\n",
    "print(f.read())"
   ]
  },
  {
   "cell_type": "code",
   "execution_count": null,
   "id": "aed57325",
   "metadata": {},
   "outputs": [],
   "source": []
  },
  {
   "cell_type": "code",
   "execution_count": null,
   "id": "27685cde",
   "metadata": {},
   "outputs": [],
   "source": []
  },
  {
   "cell_type": "code",
   "execution_count": null,
   "id": "3cc12a22",
   "metadata": {},
   "outputs": [],
   "source": []
  }
 ],
 "metadata": {
  "kernelspec": {
   "display_name": "Python 3",
   "language": "python",
   "name": "python3"
  },
  "language_info": {
   "codemirror_mode": {
    "name": "ipython",
    "version": 3
   },
   "file_extension": ".py",
   "mimetype": "text/x-python",
   "name": "python",
   "nbconvert_exporter": "python",
   "pygments_lexer": "ipython3",
   "version": "3.8.8"
  }
 },
 "nbformat": 4,
 "nbformat_minor": 5
}
