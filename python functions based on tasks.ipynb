{
 "cells": [
  {
   "cell_type": "raw",
   "id": "f02e4b3e",
   "metadata": {},
   "source": [
    "\n",
    "functions in python \n",
    "\n",
    "functions:\n",
    "    function creation -> def\n",
    "    function calling -> return\n",
    "    \n",
    "\n",
    "Types of functions:\n",
    "1)without parameters , without return value type\n",
    "2)without parameters , with return value type\n",
    "3)with parameters , without return value type\n",
    "4)with parameters , with return value type"
   ]
  },
  {
   "cell_type": "code",
   "execution_count": null,
   "id": "6da4607c",
   "metadata": {},
   "outputs": [],
   "source": [
    "#1)without parameters , without return value type\n",
    "\n",
    "def welcome_msz(): #function creation with def\n",
    "    print('hello','nice to see you')   #printing statement\n",
    "    print('welcome to our application')  #printing statement\n",
    "\n",
    "welcome_msz()  #calling function writen  many times \n",
    "welcome_msz()  \n",
    "welcome_msz()"
   ]
  },
  {
   "cell_type": "code",
   "execution_count": null,
   "id": "f5657cd4",
   "metadata": {},
   "outputs": [],
   "source": [
    "# 2)without parameters , with return value type\n",
    "#claculating total numbers\n",
    "\n",
    "def some_of_first_10_num(): #creating function without parameters\n",
    "    sum = 0                # declaration sum of values \n",
    "    for i in range (1,11): #for loop in 10 values\n",
    "        sum = sum + i      #summ of loop values adding with stored value like 1+2+3+4+5+6+7+8+9+10\n",
    "    return sum      #return sum\n",
    "answer = some_of_first_10_num()  #calling  function\n",
    "print(answer) #printing the answer"
   ]
  },
  {
   "cell_type": "code",
   "execution_count": null,
   "id": "ede9c494",
   "metadata": {},
   "outputs": [],
   "source": [
    "# 3)with parameters , without return value type\n",
    "# welcome user male and female classification\n",
    "def welcome_user(name,gender):  #functioon creating with parameters\n",
    "    if gender == 'M':\n",
    "        print('welcome Mr.',name,',Have a nice day!')\n",
    "    else :\n",
    "        print('welcome Ms.',name,',Have a nice day!')\n",
    "        \n",
    "name = input('enter your name')   #parameter in input name\n",
    "gender =input('enter your gender (M/F)')   #parameter in input gender\n",
    "\n",
    "welcome_user(name,gender)    # calling function\n",
    "\n"
   ]
  },
  {
   "cell_type": "code",
   "execution_count": 8,
   "id": "4a853ebd",
   "metadata": {},
   "outputs": [
    {
     "name": "stdout",
     "output_type": "stream",
     "text": [
      "1 occurence : 4\n",
      "2 occurence : 8\n",
      "3 occurence : 5\n",
      "4 occurence : 8\n",
      "5 occurence : 9\n",
      "6 occurence : 1\n",
      "7 occurence : 1\n",
      "8 occurence : 2\n"
     ]
    }
   ],
   "source": [
    "# 4)with parameters , with return value type\n",
    "# task\n",
    "# function parameters\n",
    "# list of values\n",
    "# list of length\n",
    "# target elememnts\n",
    "\n",
    "def get_count(arr,size,target_values):\n",
    "    cnt = 0\n",
    "    for i in range (0,size):\n",
    "        if arr[i] == target_values:\n",
    "            cnt = cnt+1\n",
    "    return cnt\n",
    "\n",
    "my_list = [1,2,3,2,3,1,3,4,3,5,8,5,5,1,5,2,4,7,2,5,8,6,3,2,5,4,4,4,5,2,1,5,2,4,5,2,4,4]\n",
    "print('1 occurence :',get_count(my_list,len(my_list),1))\n",
    "print('2 occurence :',get_count(my_list,len(my_list),2))\n",
    "print('3 occurence :',get_count(my_list,len(my_list),3))\n",
    "print('4 occurence :',get_count(my_list,len(my_list),4))\n",
    "print('5 occurence :',get_count(my_list,len(my_list),5))\n",
    "print('6 occurence :',get_count(my_list,len(my_list),6))\n",
    "print('7 occurence :',get_count(my_list,len(my_list),7))\n",
    "print('8 occurence :',get_count(my_list,len(my_list),8))"
   ]
  },
  {
   "cell_type": "code",
   "execution_count": null,
   "id": "9a63936d",
   "metadata": {},
   "outputs": [],
   "source": []
  }
 ],
 "metadata": {
  "kernelspec": {
   "display_name": "Python 3",
   "language": "python",
   "name": "python3"
  },
  "language_info": {
   "codemirror_mode": {
    "name": "ipython",
    "version": 3
   },
   "file_extension": ".py",
   "mimetype": "text/x-python",
   "name": "python",
   "nbconvert_exporter": "python",
   "pygments_lexer": "ipython3",
   "version": "3.8.8"
  }
 },
 "nbformat": 4,
 "nbformat_minor": 5
}
