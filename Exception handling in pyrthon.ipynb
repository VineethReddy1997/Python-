{
 "cells": [
  {
   "cell_type": "markdown",
   "id": "a178704d",
   "metadata": {},
   "source": [
    "# Exception  handling "
   ]
  },
  {
   "cell_type": "raw",
   "id": "86850cc2",
   "metadata": {},
   "source": [
    "Excetion Handling means Errors handling \n",
    "the code which tends to error according to the based on  users input \n",
    "in case any running error occured in our programming in that time programm will not be excuted\n",
    "soo that time we will use the Error handling methods \n"
   ]
  },
  {
   "cell_type": "raw",
   "id": "a43b6046",
   "metadata": {},
   "source": [
    "we have handling this errors to use \n",
    "\n",
    "Try:   --> the code which might throw error\n",
    "    enter the error code part\n",
    "\n",
    "except: --> handling the error\n",
    "    print('invalid error')\n",
    "    \n",
    "finally: -->with or without error code will be excuted\n",
    "    no matter what this block will excuuted or In case errors there or not there it will be excuted program\n",
    "    \n",
    "next we will run the programm after exception error\n",
    "\n",
    "    \n"
   ]
  },
  {
   "cell_type": "code",
   "execution_count": 17,
   "id": "4a5434db",
   "metadata": {},
   "outputs": [
    {
     "name": "stdout",
     "output_type": "stream",
     "text": [
      "enter the a value : 5\n",
      "enter the b value : 0\n"
     ]
    },
    {
     "ename": "ZeroDivisionError",
     "evalue": "division by zero",
     "output_type": "error",
     "traceback": [
      "\u001b[1;31m---------------------------------------------------------------------------\u001b[0m",
      "\u001b[1;31mZeroDivisionError\u001b[0m                         Traceback (most recent call last)",
      "\u001b[1;32m<ipython-input-17-79003489a6b5>\u001b[0m in \u001b[0;36m<module>\u001b[1;34m\u001b[0m\n\u001b[0;32m      1\u001b[0m \u001b[0ma\u001b[0m \u001b[1;33m=\u001b[0m \u001b[0mint\u001b[0m\u001b[1;33m(\u001b[0m\u001b[0minput\u001b[0m\u001b[1;33m(\u001b[0m\u001b[1;34m'enter the a value : '\u001b[0m\u001b[1;33m)\u001b[0m\u001b[1;33m)\u001b[0m\u001b[1;33m\u001b[0m\u001b[1;33m\u001b[0m\u001b[0m\n\u001b[0;32m      2\u001b[0m \u001b[0mb\u001b[0m \u001b[1;33m=\u001b[0m \u001b[0mint\u001b[0m\u001b[1;33m(\u001b[0m\u001b[0minput\u001b[0m\u001b[1;33m(\u001b[0m\u001b[1;34m'enter the b value : '\u001b[0m\u001b[1;33m)\u001b[0m\u001b[1;33m)\u001b[0m\u001b[1;33m\u001b[0m\u001b[1;33m\u001b[0m\u001b[0m\n\u001b[1;32m----> 3\u001b[1;33m \u001b[0mc\u001b[0m \u001b[1;33m=\u001b[0m \u001b[0ma\u001b[0m\u001b[1;33m/\u001b[0m\u001b[0mb\u001b[0m\u001b[1;33m\u001b[0m\u001b[1;33m\u001b[0m\u001b[0m\n\u001b[0m\u001b[0;32m      4\u001b[0m \u001b[0mprint\u001b[0m\u001b[1;33m(\u001b[0m\u001b[1;34m\"division\"\u001b[0m\u001b[1;33m,\u001b[0m\u001b[0mc\u001b[0m\u001b[1;33m)\u001b[0m\u001b[1;33m\u001b[0m\u001b[1;33m\u001b[0m\u001b[0m\n\u001b[0;32m      5\u001b[0m \u001b[1;32mtry\u001b[0m\u001b[1;33m:\u001b[0m\u001b[1;33m\u001b[0m\u001b[1;33m\u001b[0m\u001b[0m\n",
      "\u001b[1;31mZeroDivisionError\u001b[0m: division by zero"
     ]
    }
   ],
   "source": [
    "a = int(input('enter the a value : '))\n",
    "b = int(input('enter the b value : '))\n",
    "c = a/b\n",
    "print(\"division\",c)\n",
    "try:   # thow out the error\n",
    "     c \n",
    "        # in this block of telling the error why error will occured \n",
    "except:\n",
    "    ('error')  # hint the message from error\n",
    "    \n",
    "finally:\n",
    "    print('this is finally block')"
   ]
  },
  {
   "cell_type": "code",
   "execution_count": 20,
   "id": "86615328",
   "metadata": {},
   "outputs": [
    {
     "name": "stdout",
     "output_type": "stream",
     "text": [
      "enter the a value : 5\n",
      "enter the b value : 0\n",
      "this is finally block\n",
      " hello world!\n"
     ]
    }
   ],
   "source": [
    "# in this  block of code where is error occured that error code is put inside the try block and except error\n",
    "try:    # thow out the error\n",
    "    a = int(input('enter the a value : '))\n",
    "    b = int(input('enter the b value : '))\n",
    "    c = a/b\n",
    "    print(\"division\",c)\n",
    "except:    # except  the error        \n",
    "    ('error')\n",
    "finally:\n",
    "    print('this is finally block')\n",
    "    \n",
    "print ('hello world!')"
   ]
  },
  {
   "cell_type": "code",
   "execution_count": null,
   "id": "1b8bfbd1",
   "metadata": {},
   "outputs": [],
   "source": []
  }
 ],
 "metadata": {
  "kernelspec": {
   "display_name": "Python 3",
   "language": "python",
   "name": "python3"
  },
  "language_info": {
   "codemirror_mode": {
    "name": "ipython",
    "version": 3
   },
   "file_extension": ".py",
   "mimetype": "text/x-python",
   "name": "python",
   "nbconvert_exporter": "python",
   "pygments_lexer": "ipython3",
   "version": "3.8.8"
  }
 },
 "nbformat": 4,
 "nbformat_minor": 5
}
