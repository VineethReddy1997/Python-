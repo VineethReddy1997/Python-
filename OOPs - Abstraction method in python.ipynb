{
 "cells": [
  {
   "cell_type": "markdown",
   "id": "b1726f7b",
   "metadata": {},
   "source": [
    "# Abstraction "
   ]
  },
  {
   "cell_type": "raw",
   "id": "5d98de38",
   "metadata": {},
   "source": [
    "1)abs method there is no body only definition is there\n",
    "2)abs class not object creation    \n",
    "3)in this abs inheritence is not possible  \n",
    "4)a class contains one or more abstracts classes is it said to be a abstraction after that will not execute the program \n"
   ]
  },
  {
   "cell_type": "code",
   "execution_count": 10,
   "id": "4ef2d42a",
   "metadata": {},
   "outputs": [
    {
     "ename": "TypeError",
     "evalue": "Can't instantiate abstract class Encap1 with abstract methods __init__",
     "output_type": "error",
     "traceback": [
      "\u001b[1;31m---------------------------------------------------------------------------\u001b[0m",
      "\u001b[1;31mTypeError\u001b[0m                                 Traceback (most recent call last)",
      "\u001b[1;32m<ipython-input-10-e2c4065d31b7>\u001b[0m in \u001b[0;36m<module>\u001b[1;34m\u001b[0m\n\u001b[0;32m      7\u001b[0m     \u001b[1;32mdef\u001b[0m \u001b[0mdisplay1\u001b[0m\u001b[1;33m(\u001b[0m\u001b[0mself\u001b[0m\u001b[1;33m)\u001b[0m\u001b[1;33m:\u001b[0m\u001b[1;33m\u001b[0m\u001b[1;33m\u001b[0m\u001b[0m\n\u001b[0;32m      8\u001b[0m         \u001b[0mprint\u001b[0m\u001b[1;33m(\u001b[0m\u001b[1;34m'This is Private variable'\u001b[0m\u001b[1;33m,\u001b[0m\u001b[0mself\u001b[0m\u001b[1;33m.\u001b[0m\u001b[0m_public\u001b[0m\u001b[1;33m)\u001b[0m\u001b[1;33m\u001b[0m\u001b[1;33m\u001b[0m\u001b[0m\n\u001b[1;32m----> 9\u001b[1;33m \u001b[0mobj\u001b[0m \u001b[1;33m=\u001b[0m \u001b[0mEncap1\u001b[0m\u001b[1;33m(\u001b[0m\u001b[1;36m12\u001b[0m\u001b[1;33m)\u001b[0m\u001b[1;33m\u001b[0m\u001b[1;33m\u001b[0m\u001b[0m\n\u001b[0m\u001b[0;32m     10\u001b[0m \u001b[0mobj\u001b[0m\u001b[1;33m.\u001b[0m\u001b[0mdisplay1\u001b[0m\u001b[1;33m(\u001b[0m\u001b[1;33m)\u001b[0m\u001b[1;33m\u001b[0m\u001b[1;33m\u001b[0m\u001b[0m\n",
      "\u001b[1;31mTypeError\u001b[0m: Can't instantiate abstract class Encap1 with abstract methods __init__"
     ]
    }
   ],
   "source": [
    "from abc import ABC,abstractmethod\n",
    "class Encap(ABC):\n",
    "    @abstractmethod  #this abs method importing  and we will not calleble and no execution next process\n",
    "    def __init__(self,a):\n",
    "        self._public = a    # create with privated variable\n",
    "class Encap1(Encap):\n",
    "    def display1(self):\n",
    "        print('This is Private variable',self._public)\n",
    "obj = Encap1(12)\n",
    "obj.display1()"
   ]
  },
  {
   "cell_type": "code",
   "execution_count": null,
   "id": "0f317cea",
   "metadata": {},
   "outputs": [],
   "source": []
  },
  {
   "cell_type": "code",
   "execution_count": null,
   "id": "c4693c3e",
   "metadata": {},
   "outputs": [],
   "source": []
  }
 ],
 "metadata": {
  "kernelspec": {
   "display_name": "Python 3",
   "language": "python",
   "name": "python3"
  },
  "language_info": {
   "codemirror_mode": {
    "name": "ipython",
    "version": 3
   },
   "file_extension": ".py",
   "mimetype": "text/x-python",
   "name": "python",
   "nbconvert_exporter": "python",
   "pygments_lexer": "ipython3",
   "version": "3.8.8"
  }
 },
 "nbformat": 4,
 "nbformat_minor": 5
}
