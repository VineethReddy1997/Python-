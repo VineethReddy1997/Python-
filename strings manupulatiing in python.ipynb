{
 "cells": [
  {
   "cell_type": "code",
   "execution_count": 5,
   "id": "476a0e58",
   "metadata": {},
   "outputs": [
    {
     "data": {
      "text/plain": [
       "'HELLO WORLD'"
      ]
     },
     "execution_count": 5,
     "metadata": {},
     "output_type": "execute_result"
    }
   ],
   "source": [
    "v1 = 'HELLO wORLD'\n",
    "v1.upper()"
   ]
  },
  {
   "cell_type": "code",
   "execution_count": 6,
   "id": "950720d5",
   "metadata": {},
   "outputs": [
    {
     "data": {
      "text/plain": [
       "'hello world'"
      ]
     },
     "execution_count": 6,
     "metadata": {},
     "output_type": "execute_result"
    }
   ],
   "source": [
    "v1 = 'HELLO wORLD'\n",
    "v1.lower()"
   ]
  },
  {
   "cell_type": "code",
   "execution_count": 8,
   "id": "32ab450b",
   "metadata": {},
   "outputs": [
    {
     "data": {
      "text/plain": [
       "'Hello World'"
      ]
     },
     "execution_count": 8,
     "metadata": {},
     "output_type": "execute_result"
    }
   ],
   "source": [
    "v1 = 'HELLO wORLD'\n",
    "v1.title()"
   ]
  },
  {
   "cell_type": "code",
   "execution_count": 11,
   "id": "2f259084",
   "metadata": {},
   "outputs": [
    {
     "data": {
      "text/plain": [
       "'HELLO world hi,there'"
      ]
     },
     "execution_count": 11,
     "metadata": {},
     "output_type": "execute_result"
    }
   ],
   "source": [
    "v1 = 'HELLO world '\n",
    "v2 = 'hi,there'\n",
    "v1+v2"
   ]
  },
  {
   "cell_type": "code",
   "execution_count": 12,
   "id": "d43aecff",
   "metadata": {},
   "outputs": [
    {
     "name": "stdout",
     "output_type": "stream",
     "text": [
      "H\n",
      "E\n",
      "L\n",
      "L\n",
      "O\n",
      " \n",
      "w\n",
      "o\n",
      "r\n",
      "l\n",
      "d\n",
      " \n"
     ]
    }
   ],
   "source": [
    "for cha in v1:\n",
    "    print(cha)"
   ]
  },
  {
   "cell_type": "code",
   "execution_count": 18,
   "id": "86bda6fa",
   "metadata": {},
   "outputs": [
    {
     "name": "stdout",
     "output_type": "stream",
     "text": [
      "l\n"
     ]
    }
   ],
   "source": [
    "v1 = 'hello world'\n",
    "print(v1[9])"
   ]
  },
  {
   "cell_type": "raw",
   "id": "d0efb0c7",
   "metadata": {},
   "source": [
    "aschii values are there in strings \n",
    "strings aschii values converting to the numericals inside the stored values"
   ]
  },
  {
   "cell_type": "code",
   "execution_count": 57,
   "id": "1c751d5b",
   "metadata": {},
   "outputs": [],
   "source": [
    "vineeth = 'how to become a data scientist'#string"
   ]
  },
  {
   "cell_type": "code",
   "execution_count": 58,
   "id": "f682e1c7",
   "metadata": {},
   "outputs": [
    {
     "data": {
      "text/plain": [
       "'How To Become A Data Scientist'"
      ]
     },
     "execution_count": 58,
     "metadata": {},
     "output_type": "execute_result"
    }
   ],
   "source": [
    "len(vineeth) #len of string"
   ]
  },
  {
   "cell_type": "code",
   "execution_count": 54,
   "id": "81cc886c",
   "metadata": {},
   "outputs": [
    {
     "data": {
      "text/plain": [
       "'how to become a data scientist'"
      ]
     },
     "execution_count": 54,
     "metadata": {},
     "output_type": "execute_result"
    }
   ],
   "source": [
    "vineeth.lower() # lower case letters"
   ]
  },
  {
   "cell_type": "code",
   "execution_count": 55,
   "id": "b8670d20",
   "metadata": {},
   "outputs": [
    {
     "data": {
      "text/plain": [
       "'HOW TO BECOME A DATA SCIENTIST'"
      ]
     },
     "execution_count": 55,
     "metadata": {},
     "output_type": "execute_result"
    }
   ],
   "source": [
    "vineeth.upper() #upper case letters"
   ]
  },
  {
   "cell_type": "code",
   "execution_count": 56,
   "id": "9d15da48",
   "metadata": {},
   "outputs": [
    {
     "data": {
      "text/plain": [
       "'How To Become A Data Scientist'"
      ]
     },
     "execution_count": 56,
     "metadata": {},
     "output_type": "execute_result"
    }
   ],
   "source": [
    "vineeth.title() #string converts to title"
   ]
  },
  {
   "cell_type": "code",
   "execution_count": 60,
   "id": "ecbb17ed",
   "metadata": {},
   "outputs": [
    {
     "data": {
      "text/plain": [
       "'How'"
      ]
     },
     "execution_count": 60,
     "metadata": {},
     "output_type": "execute_result"
    }
   ],
   "source": [
    "(vineeth[0:3])#slice with indexing number"
   ]
  },
  {
   "cell_type": "code",
   "execution_count": 64,
   "id": "34bf36de",
   "metadata": {},
   "outputs": [
    {
     "data": {
      "text/plain": [
       "'How To Become A Data Scientist'"
      ]
     },
     "execution_count": 64,
     "metadata": {},
     "output_type": "execute_result"
    }
   ],
   "source": [
    "vineeth"
   ]
  },
  {
   "cell_type": "code",
   "execution_count": 69,
   "id": "db85cdf1",
   "metadata": {},
   "outputs": [
    {
     "name": "stdout",
     "output_type": "stream",
     "text": [
      "['How', 'To', 'Become', 'A', 'Data', 'Scientist']\n"
     ]
    }
   ],
   "source": [
    "print(list(vineeth.split())) #converting to list of words by using split method"
   ]
  },
  {
   "cell_type": "code",
   "execution_count": 78,
   "id": "460ad7a0",
   "metadata": {},
   "outputs": [],
   "source": [
    "new = 'and which type of books are refferred '"
   ]
  },
  {
   "cell_type": "code",
   "execution_count": 82,
   "id": "894cf507",
   "metadata": {},
   "outputs": [
    {
     "data": {
      "text/plain": [
       "'a,n,d, ,w,h,i,c,h, ,t,y,p,e, ,o,f, ,b,o,o,k,s, ,a,r,e, ,r,e,f,f,e,r,r,e,d, '"
      ]
     },
     "execution_count": 82,
     "metadata": {},
     "output_type": "execute_result"
    }
   ],
   "source": [
    "new_join = ','.join(new) #join function\n",
    "new_join\n"
   ]
  },
  {
   "cell_type": "code",
   "execution_count": 103,
   "id": "f9740991",
   "metadata": {},
   "outputs": [
    {
     "data": {
      "text/plain": [
       "True"
      ]
     },
     "execution_count": 103,
     "metadata": {},
     "output_type": "execute_result"
    }
   ],
   "source": [
    "a = vineeth.startswith('H') #startwith function\n",
    "a"
   ]
  },
  {
   "cell_type": "code",
   "execution_count": 109,
   "id": "fabe9d4d",
   "metadata": {},
   "outputs": [
    {
     "data": {
      "text/plain": [
       "True"
      ]
     },
     "execution_count": 109,
     "metadata": {},
     "output_type": "execute_result"
    }
   ],
   "source": [
    "b = vineeth.endswith('Scientist')\n",
    "b"
   ]
  },
  {
   "cell_type": "code",
   "execution_count": 110,
   "id": "d9c04ff5",
   "metadata": {},
   "outputs": [
    {
     "data": {
      "text/plain": [
       "list"
      ]
     },
     "execution_count": 110,
     "metadata": {},
     "output_type": "execute_result"
    }
   ],
   "source": [
    "l = [1,2,3,4,5,6,7,8,9]\n",
    "type(l)"
   ]
  },
  {
   "cell_type": "code",
   "execution_count": 113,
   "id": "ccbd693a",
   "metadata": {},
   "outputs": [
    {
     "data": {
      "text/plain": [
       "tuple"
      ]
     },
     "execution_count": 113,
     "metadata": {},
     "output_type": "execute_result"
    }
   ],
   "source": [
    "t = tuple(l)\n",
    "type(t)"
   ]
  },
  {
   "cell_type": "code",
   "execution_count": 114,
   "id": "a6649d48",
   "metadata": {},
   "outputs": [
    {
     "data": {
      "text/plain": [
       "tuple"
      ]
     },
     "execution_count": 114,
     "metadata": {},
     "output_type": "execute_result"
    }
   ],
   "source": [
    "tu = (1,2,3,4,5,6,7,8)\n",
    "type(tu)"
   ]
  },
  {
   "cell_type": "code",
   "execution_count": 115,
   "id": "b04c60fa",
   "metadata": {},
   "outputs": [
    {
     "data": {
      "text/plain": [
       "[1, 2, 3, 4, 5, 6, 7, 8]"
      ]
     },
     "execution_count": 115,
     "metadata": {},
     "output_type": "execute_result"
    }
   ],
   "source": [
    "li = list(tu)\n",
    "li"
   ]
  },
  {
   "cell_type": "code",
   "execution_count": 116,
   "id": "1f0c79b1",
   "metadata": {},
   "outputs": [
    {
     "data": {
      "text/plain": [
       "{1, 2, 3, 4, 5, 6, 78}"
      ]
     },
     "execution_count": 116,
     "metadata": {},
     "output_type": "execute_result"
    }
   ],
   "source": [
    "se = {1,2,3,4,5,6,78,1,2,}\n",
    "se\n"
   ]
  },
  {
   "cell_type": "code",
   "execution_count": 118,
   "id": "414650ac",
   "metadata": {},
   "outputs": [
    {
     "data": {
      "text/plain": [
       "[1, 2, 3, 4, 5, 6, 78]"
      ]
     },
     "execution_count": 118,
     "metadata": {},
     "output_type": "execute_result"
    }
   ],
   "source": [
    "lis = list(se)\n",
    "lis"
   ]
  },
  {
   "cell_type": "code",
   "execution_count": 126,
   "id": "d17160b6",
   "metadata": {},
   "outputs": [
    {
     "data": {
      "text/plain": [
       "{1, 2, 3, 4, 5, 6, 7, 8, 9, 65}"
      ]
     },
     "execution_count": 126,
     "metadata": {},
     "output_type": "execute_result"
    }
   ],
   "source": [
    "l1= [1,2,3,5,5,5,65,5,8,5,2,8,4,5,4,5,6,7,8,9] \n",
    "\n",
    "l1\n",
    "sel =set(l1)\n",
    "sel"
   ]
  },
  {
   "cell_type": "code",
   "execution_count": null,
   "id": "3e4bfa7a",
   "metadata": {},
   "outputs": [],
   "source": [
    "\n",
    "\n"
   ]
  },
  {
   "cell_type": "markdown",
   "id": "b20ee48c",
   "metadata": {},
   "source": [
    "# F string"
   ]
  },
  {
   "cell_type": "code",
   "execution_count": 127,
   "id": "e3e18716",
   "metadata": {},
   "outputs": [
    {
     "name": "stdout",
     "output_type": "stream",
     "text": [
      "100 200 150\n"
     ]
    }
   ],
   "source": [
    "a = 100\n",
    "b= 200\n",
    "c = 150\n",
    "print(a,b,c)"
   ]
  },
  {
   "cell_type": "code",
   "execution_count": 128,
   "id": "0265884a",
   "metadata": {},
   "outputs": [
    {
     "name": "stdout",
     "output_type": "stream",
     "text": [
      "450\n"
     ]
    }
   ],
   "source": [
    "print(a+b+c)"
   ]
  },
  {
   "cell_type": "code",
   "execution_count": 145,
   "id": "5fceae8f",
   "metadata": {},
   "outputs": [],
   "source": [
    "name = 'vineeth'\n",
    "age = 20\n",
    "add = ' {} {}'.format(name,age)"
   ]
  },
  {
   "cell_type": "code",
   "execution_count": 147,
   "id": "ae898295",
   "metadata": {},
   "outputs": [
    {
     "data": {
      "text/plain": [
       "' vineeth 20'"
      ]
     },
     "execution_count": 147,
     "metadata": {},
     "output_type": "execute_result"
    }
   ],
   "source": [
    "add"
   ]
  },
  {
   "cell_type": "code",
   "execution_count": null,
   "id": "fce12f2c",
   "metadata": {},
   "outputs": [],
   "source": []
  },
  {
   "cell_type": "code",
   "execution_count": 153,
   "id": "fb42da81",
   "metadata": {},
   "outputs": [],
   "source": [
    "person = {'name':'vineeth','age':24}\n",
    "sentence = 'my name is {} and iam {} years old'.format(person[\"name\"],person[\"age\"])"
   ]
  },
  {
   "cell_type": "code",
   "execution_count": 154,
   "id": "411eefb3",
   "metadata": {},
   "outputs": [
    {
     "data": {
      "text/plain": [
       "'my name is vineeth and iam 24 years old'"
      ]
     },
     "execution_count": 154,
     "metadata": {},
     "output_type": "execute_result"
    }
   ],
   "source": [
    "sentence"
   ]
  },
  {
   "cell_type": "code",
   "execution_count": 159,
   "id": "a17ab33b",
   "metadata": {},
   "outputs": [],
   "source": [
    "person = {'name':'vineeth','age':24}\n",
    "\n",
    "sentence = f\"my name is {person['name']} and i am {person['age']} years old\""
   ]
  },
  {
   "cell_type": "code",
   "execution_count": 160,
   "id": "70a185b8",
   "metadata": {},
   "outputs": [
    {
     "data": {
      "text/plain": [
       "'my name is vineeth and i am 24 years old'"
      ]
     },
     "execution_count": 160,
     "metadata": {},
     "output_type": "execute_result"
    }
   ],
   "source": [
    "sentence"
   ]
  },
  {
   "cell_type": "code",
   "execution_count": 164,
   "id": "fd41fa7a",
   "metadata": {},
   "outputs": [
    {
     "name": "stdout",
     "output_type": "stream",
     "text": [
      "the value is 001\n",
      "the value is 002\n",
      "the value is 003\n",
      "the value is 004\n",
      "the value is 005\n",
      "the value is 006\n",
      "the value is 007\n",
      "the value is 008\n",
      "the value is 009\n",
      "the value is 010\n"
     ]
    }
   ],
   "source": [
    "for i in range(1,11):\n",
    "    sentence= f'the value is {i:03}'\n",
    "    print(sentence)"
   ]
  },
  {
   "cell_type": "code",
   "execution_count": null,
   "id": "71c262c2",
   "metadata": {},
   "outputs": [],
   "source": []
  },
  {
   "cell_type": "code",
   "execution_count": null,
   "id": "a5abeee2",
   "metadata": {},
   "outputs": [],
   "source": []
  }
 ],
 "metadata": {
  "kernelspec": {
   "display_name": "Python 3",
   "language": "python",
   "name": "python3"
  },
  "language_info": {
   "codemirror_mode": {
    "name": "ipython",
    "version": 3
   },
   "file_extension": ".py",
   "mimetype": "text/x-python",
   "name": "python",
   "nbconvert_exporter": "python",
   "pygments_lexer": "ipython3",
   "version": "3.8.8"
  }
 },
 "nbformat": 4,
 "nbformat_minor": 5
}
