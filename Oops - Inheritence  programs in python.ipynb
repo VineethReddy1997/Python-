{
 "cells": [
  {
   "cell_type": "markdown",
   "id": "ec4151d8",
   "metadata": {},
   "source": [
    "# inheritence\n",
    "       "
   ]
  },
  {
   "cell_type": "raw",
   "id": "c664de4e",
   "metadata": {},
   "source": [
    "-> inheritene  is used in duplicate code removing \n",
    "->usage of existing code or reusable code\n"
   ]
  },
  {
   "cell_type": "raw",
   "id": "284d8d78",
   "metadata": {},
   "source": [
    "Best Example:\n",
    "Grand Father class - Single Floor is  constructed in a place\n",
    "Father class - in that building  as  Double Floors are constructed(modified second  floor based on  Grand Father building) \n",
    "Son class - in that building Triple Floors are constructed(modified Third floor  based on Grand father and Father floor)"
   ]
  },
  {
   "cell_type": "raw",
   "id": "db638019",
   "metadata": {},
   "source": [
    "Types of inheritence\n",
    "1)Single level inheritence\n",
    "2)Multi_level inheritence \n",
    "3)multiple inheritence\n",
    "4)hierarchical inheritence\n",
    "5)hybrid inheritence|"
   ]
  },
  {
   "cell_type": "code",
   "execution_count": null,
   "id": "a9383398",
   "metadata": {},
   "outputs": [],
   "source": []
  },
  {
   "cell_type": "markdown",
   "id": "cef9c381",
   "metadata": {},
   "source": [
    "# Single Level Inheritence"
   ]
  },
  {
   "cell_type": "markdown",
   "id": "bfd3b9e0",
   "metadata": {},
   "source": [
    "Example :\n",
    "Vehicle System In RTC \n"
   ]
  },
  {
   "cell_type": "code",
   "execution_count": 11,
   "id": "747cce0b",
   "metadata": {},
   "outputs": [
    {
     "name": "stdout",
     "output_type": "stream",
     "text": [
      "Vineeth Reddy\n",
      "Eligibility of license : Valid License\n",
      "Rakesh Reddy\n",
      "Eligibility of license : License is Expired\n"
     ]
    }
   ],
   "source": [
    "class Driver:     #creating class 1\n",
    "    def __init__(self,f_name,l_name,age,mobile_no): #constructor\n",
    "        self.f_name    = f_name\n",
    "        self.l_name    = l_name\n",
    "        self.age       = age\n",
    "        self.mobile_number = mobile_no\n",
    "        \n",
    "    def full_name(self):   #method\n",
    "        return f\"{self.f_name} {self.l_name}\"\n",
    "    \n",
    "class Licensce(Driver):       #creating class 2\n",
    "    def __init__(self,f_name,l_name,age,mobile_no,license_id,validity_year):  #constructor for modification\n",
    "        Driver.__init__(self,f_name,l_name,age,mobile_no)\n",
    "        self.license_id = license_id\n",
    "        self.validity_year = validity_year\n",
    "        \n",
    "    def is_valid_licencse(self):    #method for writoing funtion (def)\n",
    "        if self.validity_year >= 2021:\n",
    "            return \"Valid License\"\n",
    "        else:\n",
    "            return \"License is Expired\"\n",
    "        \n",
    "user_license1 = Licensce('Vineeth','Reddy',24,134575,1544254,2021) #object creation for user from License \n",
    "user_license2 = Licensce('Rakesh','Reddy',22,134685,2354254,2020)  #object creation for user From License\n",
    "\n",
    "print(user_license1.full_name())  #printing statement  from function name\n",
    "print('Eligibility of license :',user_license1.is_valid_licencse())\n",
    "\n",
    "print(user_license2.full_name())\n",
    "print('Eligibility of license :',user_license2.is_valid_licencse())"
   ]
  },
  {
   "cell_type": "code",
   "execution_count": null,
   "id": "d391bb91",
   "metadata": {},
   "outputs": [],
   "source": []
  },
  {
   "cell_type": "markdown",
   "id": "f9c55cfe",
   "metadata": {},
   "source": [
    "# Multi Level inheritence"
   ]
  },
  {
   "cell_type": "raw",
   "id": "39495a27",
   "metadata": {},
   "source": [
    "# chain reaction (A -> B -> C -> D)\n",
    "it means multple levels are athere like (many classes are created accesing parent to child.......  )\n",
    "morethan Two classes"
   ]
  },
  {
   "cell_type": "code",
   "execution_count": 17,
   "id": "89c7574b",
   "metadata": {},
   "outputs": [
    {
     "name": "stdout",
     "output_type": "stream",
     "text": [
      "vineeth Reddy\n",
      "License : Valid License\n",
      "Driver Eligibilty : You Are Eligible For Driving\n"
     ]
    }
   ],
   "source": [
    "class Driver:     #creating class 1\n",
    "    def __init__(self,f_name,l_name,age,mobile_no): #constructor\n",
    "        self.f_name    = f_name\n",
    "        self.l_name    = l_name\n",
    "        self.age       = age\n",
    "        self.mobile_number = mobile_no\n",
    "        \n",
    "    def full_name(self):   #method\n",
    "        return f\"{self.f_name} {self.l_name}\"\n",
    "    \n",
    "class Licensce(Driver):       #creating class 2\n",
    "    def __init__(self,f_name,l_name,age,mobile_no,license_id,validity_year):  #constructor for modification adding parmeters\n",
    "        Driver.__init__(self,f_name,l_name,age,mobile_no)\n",
    "        self.license_id = license_id\n",
    "        self.validity_year = validity_year\n",
    "        \n",
    "    def is_valid_licencse(self):    #method for writoing funtion (def)\n",
    "        if self.validity_year >= 2021:\n",
    "            return \"Valid License\"\n",
    "        else:\n",
    "            return \"License is Expired\"\n",
    "        \n",
    "class Vehicle(Licensce):  #creating Vechicle class\n",
    "    def __init__(self,f_name,l_name,age,mobile_no,license_id,validity_year,vehicle_no,vehicle_model):\n",
    "        Licensce.__init__(self,f_name,l_name,age,mobile_no,license_id,validity_year)\n",
    "        self.vehicle_no = vehicle_no\n",
    "        self.vehicle_model =vehicle_model\n",
    "        \n",
    "    def valid_driver(self): #creating valid driver function\n",
    "        if self.age >= 20:\n",
    "            return \"You Are Eligible For Driving\"\n",
    "        else:\n",
    "            return \"You Are Not Eligible\"\n",
    "        \n",
    "vehical_1 = Vehicle(\"vineeth\",\"Reddy\",20,7093939345,1223452,2022,5241,2012) # object creation for calling parameters all class from child class(Vehicle)\n",
    "\n",
    "print(vehical_1.full_name())             # printing the all functions from child class(Vehicle)\n",
    "print('License :',vehical_1.is_valid_licencse())\n",
    "print('Driver Eligibilty :',vehical_1.valid_driver())\n",
    "    "
   ]
  },
  {
   "cell_type": "code",
   "execution_count": null,
   "id": "90d5c289",
   "metadata": {},
   "outputs": [],
   "source": []
  },
  {
   "cell_type": "markdown",
   "id": "d8c3732a",
   "metadata": {},
   "source": [
    "# Multiple Inheritence"
   ]
  },
  {
   "cell_type": "raw",
   "id": "1c0e0f3b",
   "metadata": {},
   "source": [
    "multiple inheritence is new child class derives from both parent classes\n",
    "example:\n",
    "A\n",
    "    => C\n",
    "B\n",
    "\n",
    "class C(A,B)\n",
    "where - C is child class\n",
    "      - A,B is parent classes"
   ]
  },
  {
   "cell_type": "code",
   "execution_count": null,
   "id": "a6433bce",
   "metadata": {},
   "outputs": [],
   "source": []
  },
  {
   "cell_type": "code",
   "execution_count": null,
   "id": "99324dff",
   "metadata": {},
   "outputs": [],
   "source": []
  },
  {
   "cell_type": "code",
   "execution_count": 22,
   "id": "aab424f5",
   "metadata": {},
   "outputs": [
    {
     "name": "stdout",
     "output_type": "stream",
     "text": [
      "Name of the driver :  vineeth reddy\n",
      "License : Valid License\n",
      "Driver Eligibility : You Are Eligible For Driving\n",
      "Disel Price : 100\n"
     ]
    }
   ],
   "source": [
    "class Driver:     #creating class 1\n",
    "    def __init__(self,f_name,l_name,age,mobile_no): #constructor\n",
    "        self.f_name    = f_name\n",
    "        self.l_name    = l_name\n",
    "        self.age       = age\n",
    "        self.mobile_number = mobile_no\n",
    "        \n",
    "    def full_name(self):   #method\n",
    "        return f\"{self.f_name} {self.l_name}\"\n",
    "    \n",
    "class Licensce(Driver):       #creating class 2\n",
    "    def __init__(self,f_name,l_name,age,mobile_no,license_id,validity_year):  #constructor for modification adding parmeters\n",
    "        Driver.__init__(self,f_name,l_name,age,mobile_no)\n",
    "        self.license_id = license_id\n",
    "        self.validity_year = validity_year\n",
    "        \n",
    "    def is_valid_licencse(self):    #method for writoing funtion (def)\n",
    "        if self.validity_year >= 2021:\n",
    "            return \"Valid License\"\n",
    "        else:\n",
    "            return \"License is Expired\"\n",
    "        \n",
    "class Vehicle(Licensce):      #creating vechicle class for vehicle details\n",
    "    def __init__(self,f_name,l_name,age,mobile_no,license_id,validity_year,vehicle_no,vehicle_model):\n",
    "        Licensce.__init__(self,f_name,l_name,age,mobile_no,license_id,validity_year)\n",
    "        self.vehicle_no = vehicle_no\n",
    "        self.vehicle_model =vehicle_model\n",
    "        \n",
    "    def valid_driver(self):  # creating fumction for valid driver\n",
    "        if self.age >= 20:\n",
    "            return \"You Are Eligible For Driving\"\n",
    "        else:\n",
    "            return \"You Are Not Eligible\"\n",
    "\n",
    "\n",
    "class Petrol:    #creating type of fuel class \n",
    "    def __init__(self,petrol_price): #price parameter\n",
    "        self.petrol_price = petrol_price\n",
    "\n",
    "\n",
    "class Disel:     #creating type of fuel class\n",
    "    def __init__(self,disel_price):   #price parameter\n",
    "        self.disel_price = disel_price\n",
    "        \n",
    "        \n",
    "####      multiple inheritence ####\n",
    "\n",
    "class Bus(Vehicle,Disel):  #creating class with myultiple inheritences or derives from two class details assiging with thius bus class\n",
    "    def __init__(self,f_name,l_name,age,mobile_no,license_id,validity_year,vehicle_no,vehicle_model,disel_price,bus_wheels):\n",
    "        Vehicle.__init__(self,f_name,l_name,age,mobile_no,license_id,validity_year,vehicle_no,vehicle_model)\n",
    "        Disel.__init__(self,disel_price)\n",
    "        self.bus_wheels = bus_wheels\n",
    "        \n",
    "bus = Bus('vineeth','reddy',25,7032564502,24450,2022,5212,2012,100,6) #object creation  from Bus class \n",
    "\n",
    "print('Name of the driver : ',bus.full_name())\n",
    "print('License :',bus.is_valid_licencse())\n",
    "print('Driver Eligibility :',bus.valid_driver())       # printing statements from function names \n",
    "print('Disel Price :',bus.disel_price)"
   ]
  },
  {
   "cell_type": "code",
   "execution_count": null,
   "id": "6ea96ce7",
   "metadata": {},
   "outputs": [],
   "source": []
  },
  {
   "cell_type": "markdown",
   "id": "256e0c46",
   "metadata": {},
   "source": [
    "# Hirerarchical inheritence "
   ]
  },
  {
   "cell_type": "raw",
   "id": "d5d57484",
   "metadata": {},
   "source": [
    "this hierarchical inheritence one parent class and multiple child classes\n",
    "example :\n",
    "   acessing  only one child and one parent classe are derived in so many childrens on that parent classs this is known as hierarchical inheritence\n",
    "   \n",
    "class A:\n",
    "\n",
    "classs B(A):  -> accesing parent class\n",
    "\n",
    "class C(A):   -> sccesing parent class"
   ]
  },
  {
   "cell_type": "code",
   "execution_count": 112,
   "id": "09b9ae4a",
   "metadata": {},
   "outputs": [
    {
     "name": "stdout",
     "output_type": "stream",
     "text": [
      "this is fun 1\n",
      "this is fun 2\n",
      "this is fun 1\n",
      "this is fun 3\n"
     ]
    }
   ],
   "source": [
    "class Software:    # ceartion of parent  class\n",
    "    def fun1(self):\n",
    "        return 'this is fun 1'\n",
    "    \n",
    "class Staff(Software):  #creation of child class\n",
    "    def fun2(self):\n",
    "        return 'this is fun 2'\n",
    "    \n",
    "class Staff1(Software):   #creation of child 2 class\n",
    "    def fun3(self):\n",
    "        return 'this is fun 3'\n",
    "\n",
    "obj = Staff()   #object creation only  child 1 ( acessing only child1 and parent classes are derived )\n",
    "print(obj.fun1())\n",
    "print(obj.fun2())\n",
    "obj = Staff1()  #object creation only  child 2 ( acessing only child2 and parent classes are derived )\n",
    "print(obj.fun1())\n",
    "print(obj.fun3())"
   ]
  },
  {
   "cell_type": "code",
   "execution_count": null,
   "id": "b0144bf3",
   "metadata": {},
   "outputs": [],
   "source": []
  },
  {
   "cell_type": "markdown",
   "id": "9a18a500",
   "metadata": {},
   "source": [
    "# Hybrid inheritence"
   ]
  },
  {
   "cell_type": "raw",
   "id": "a9377bb5",
   "metadata": {},
   "source": [
    "Hybrid inheritence is nothing but all the comination of inheritences \n",
    "like as single ineheritence,multi-level inheritence,and multiple inheritence\n",
    "\n",
    "this is rare case used\n"
   ]
  },
  {
   "cell_type": "code",
   "execution_count": 113,
   "id": "ee1485b3",
   "metadata": {},
   "outputs": [
    {
     "name": "stdout",
     "output_type": "stream",
     "text": [
      "this is school class\n",
      "this is Teacher class\n",
      "this is Teacher1 class\n",
      "this is student  class\n"
     ]
    }
   ],
   "source": [
    "class School:\n",
    "    def fun(self):\n",
    "        return ('this is school class')\n",
    "        \n",
    "class Teacher(School):\n",
    "    def fun1(self):\n",
    "        return ('this is Teacher class')\n",
    "        \n",
    "class Teacher1(School):\n",
    "    def fun2(self):\n",
    "        return ('this is Teacher1 class')\n",
    "        \n",
    "class Student(Teacher,Teacher1):\n",
    "    def fun3(self):\n",
    "        return ('this is student  class')\n",
    "        \n",
    "obj = Student()\n",
    "print(obj.fun())\n",
    "print(obj.fun1())\n",
    "print(obj.fun2())\n",
    "print(obj.fun3())"
   ]
  },
  {
   "cell_type": "code",
   "execution_count": null,
   "id": "a51461fe",
   "metadata": {},
   "outputs": [],
   "source": []
  }
 ],
 "metadata": {
  "kernelspec": {
   "display_name": "Python 3",
   "language": "python",
   "name": "python3"
  },
  "language_info": {
   "codemirror_mode": {
    "name": "ipython",
    "version": 3
   },
   "file_extension": ".py",
   "mimetype": "text/x-python",
   "name": "python",
   "nbconvert_exporter": "python",
   "pygments_lexer": "ipython3",
   "version": "3.8.8"
  }
 },
 "nbformat": 4,
 "nbformat_minor": 5
}
