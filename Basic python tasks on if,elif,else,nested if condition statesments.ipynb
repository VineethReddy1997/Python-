{
 "cells": [
  {
   "cell_type": "markdown",
   "id": "b9ca7439",
   "metadata": {},
   "source": [
    "if else elif conditions statements based on python programming for wanted sales persons... \n",
    "Condition 18 years or above 18 years persons are allowed to this job"
   ]
  },
  {
   "cell_type": "code",
   "execution_count": null,
   "id": "d43342bf",
   "metadata": {},
   "outputs": [],
   "source": [
    "print('----------------------------------')\n",
    "print ('Enter Your Details for this job')\n",
    "print('NOTE: Please Fill The Form ')\n",
    "print('----------------------------------')\n",
    "\n",
    "Name = input(\"Please Enter Your Name :  \")\n",
    "Age = int(input(\"Please Enter Your Age :  \"))\n",
    "Gender = input('Confirm Your Gender (male or female)')\n",
    "Place = input(\"Please Enter Your Place :  \")\n",
    " \n",
    "\n",
    "if Age >= 18:\n",
    "    print(Name , \"You Are Allowed To This Job\")\n",
    "else:\n",
    "    print(Name , \"You Are Not Allowed To This Job\")\n",
    "    print (\"Thank You \", Name)"
   ]
  },
  {
   "cell_type": "code",
   "execution_count": null,
   "id": "0fad4148",
   "metadata": {},
   "outputs": [],
   "source": []
  },
  {
   "cell_type": "markdown",
   "id": "eb6a91b5",
   "metadata": {},
   "source": [
    "# 10 class students marks converting to grades weather conditions \n",
    "# 90 - 100 above  get A Grade\n",
    "# 80 - 89  above  get B Grade\n",
    "# 70 - 79  above  get C Grade\n",
    "# 60 - 69  above  get D Grade\n",
    "# Below 60  is  Failed"
   ]
  },
  {
   "cell_type": "code",
   "execution_count": null,
   "id": "701fac54",
   "metadata": {},
   "outputs": [],
   "source": [
    "print('----------------------------------')\n",
    "print ('Enter Your Details For Knowing Your Grade')\n",
    "print('NOTE: Please Fill The Form ')\n",
    "print('----------------------------------')\n",
    "\n",
    "Name = input(\"Please Enter Your Name :  \")\n",
    "hall_ticket = int(input(\"Please Enter Your HT_Number :  \"))\n",
    "Gender = input('Confirm Your Gender (male or female)')\n",
    "Place = input(\"Please Enter Your Place :  \")\n",
    "marks = float(input('Please Enter Your Marks :'))\n",
    "\n",
    "if marks >=90 and marks <=100:\n",
    "    print('Your Grade Is :  A')\n",
    "    \n",
    "elif marks >=80 and marks <=89:\n",
    "    print('Your Grade Is :  B')\n",
    "    \n",
    "elif marks >=70 and marks <=79:\n",
    "    print('Your Grade Is :  c')\n",
    "    \n",
    "elif marks >=60 and marks <=69:\n",
    "    print('Your Grade Is :  D')\n",
    "    \n",
    "else :\n",
    "    print(\"You Are Failed \")\n",
    "    \n",
    "print('* NOTE: Below 60 marks Candidates Are failed')"
   ]
  },
  {
   "cell_type": "code",
   "execution_count": null,
   "id": "bc4b4684",
   "metadata": {},
   "outputs": [],
   "source": []
  },
  {
   "cell_type": "markdown",
   "id": "f2ec845b",
   "metadata": {},
   "source": [
    "# Nested If Conditions  based program "
   ]
  },
  {
   "cell_type": "markdown",
   "id": "70c2e3fa",
   "metadata": {},
   "source": [
    "# shop entry required only male persons and that person age =18 or >18 must have"
   ]
  },
  {
   "cell_type": "code",
   "execution_count": null,
   "id": "e92f7492",
   "metadata": {},
   "outputs": [],
   "source": [
    "print('----------------------------------')\n",
    "print ('Enter Your Details For Shop Entry')\n",
    "print('NOTE: Please Fill The Form ')\n",
    "print('----------------------------------')\n",
    "\n",
    "\n",
    "Name = input(\"Please Enter Your Name :  \")\n",
    "Age = int(input(\"Please Enter Your Age :  \"))\n",
    "Gender = input('Confirm Your Gender (male or female)')\n",
    "\n",
    "if Age >= 18 :\n",
    "    if Gender == 'male':\n",
    "        print('Hello Mr.',Name , 'Welcome to this shop')\n",
    "        \n",
    "    else:\n",
    "         if Gender == 'female':\n",
    "                print('Hello Ms.',Name , 'Sorry , female persons are not allowed this shop')\n",
    "                \n",
    "else:\n",
    "    print('You are not eligible ')\n",
    "    \n",
    "print('Thank You', Name)\n"
   ]
  },
  {
   "cell_type": "code",
   "execution_count": null,
   "id": "eb3f57d6",
   "metadata": {},
   "outputs": [],
   "source": []
  },
  {
   "cell_type": "code",
   "execution_count": null,
   "id": "6c78eb75",
   "metadata": {},
   "outputs": [],
   "source": []
  },
  {
   "cell_type": "code",
   "execution_count": null,
   "id": "9591a3e5",
   "metadata": {},
   "outputs": [],
   "source": []
  }
 ],
 "metadata": {
  "kernelspec": {
   "display_name": "Python 3",
   "language": "python",
   "name": "python3"
  },
  "language_info": {
   "codemirror_mode": {
    "name": "ipython",
    "version": 3
   },
   "file_extension": ".py",
   "mimetype": "text/x-python",
   "name": "python",
   "nbconvert_exporter": "python",
   "pygments_lexer": "ipython3",
   "version": "3.8.8"
  }
 },
 "nbformat": 4,
 "nbformat_minor": 5
}
