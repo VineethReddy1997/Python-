{
 "cells": [
  {
   "cell_type": "markdown",
   "id": "6c05a386",
   "metadata": {},
   "source": [
    "List creation multiplying with 5"
   ]
  },
  {
   "cell_type": "code",
   "execution_count": null,
   "id": "2f44da68",
   "metadata": {},
   "outputs": [],
   "source": [
    "l = [1,2,3,4,5,6,7,8,9,10]"
   ]
  },
  {
   "cell_type": "code",
   "execution_count": null,
   "id": "ed2e1edd",
   "metadata": {},
   "outputs": [],
   "source": [
    "new_list = []\n",
    "for i in range(0,len(l)):\n",
    "    new_list.append(l[i]*10)\n",
    "print(new_list)"
   ]
  },
  {
   "cell_type": "markdown",
   "id": "43e5bf81",
   "metadata": {},
   "source": [
    "# List comrehension is the best code reducing method"
   ]
  },
  {
   "cell_type": "code",
   "execution_count": null,
   "id": "a768bba6",
   "metadata": {},
   "outputs": [],
   "source": [
    "l = [1,2,3,4,5,6,7,8,9,10]\n",
    "\n",
    "new_list_mul = [x * 5 for x in l]\n",
    "print(new_list_mul)"
   ]
  },
  {
   "cell_type": "markdown",
   "id": "98351228",
   "metadata": {},
   "source": [
    "# even numbers printing use of list coprehension method"
   ]
  },
  {
   "cell_type": "code",
   "execution_count": null,
   "id": "b59ab76f",
   "metadata": {},
   "outputs": [],
   "source": [
    "new_list_even = [i for i in range(0,51) if i%2 == 0]\n",
    "print(new_list_even)"
   ]
  },
  {
   "cell_type": "markdown",
   "id": "04f14aae",
   "metadata": {},
   "source": [
    "# odd numbers printing use of list coprehension method"
   ]
  },
  {
   "cell_type": "code",
   "execution_count": null,
   "id": "92081d4f",
   "metadata": {},
   "outputs": [],
   "source": [
    "new_list_odd = [i for i in range(0,51) if i%2 ==1]\n",
    "print(new_list_odd)"
   ]
  },
  {
   "cell_type": "code",
   "execution_count": null,
   "id": "9440c25b",
   "metadata": {},
   "outputs": [],
   "source": []
  },
  {
   "cell_type": "markdown",
   "id": "8003ebf1",
   "metadata": {},
   "source": [
    "# lambda functions in python"
   ]
  },
  {
   "cell_type": "code",
   "execution_count": 3,
   "id": "deaa7b7f",
   "metadata": {},
   "outputs": [
    {
     "name": "stdout",
     "output_type": "stream",
     "text": [
      "3\n"
     ]
    }
   ],
   "source": [
    "x = lambda a,b : a + b\n",
    "print(x(1,2))"
   ]
  },
  {
   "cell_type": "code",
   "execution_count": 11,
   "id": "843f6d5d",
   "metadata": {},
   "outputs": [
    {
     "name": "stdout",
     "output_type": "stream",
     "text": [
      "[10, 20, 30, 40, 50, 60, 70, 80, 90, 100]\n"
     ]
    }
   ],
   "source": [
    "l = [1,2,3,4,5,6,7,8,9,10]\n",
    "multiple_ten = lambda x : x * 10\n",
    "print(list(map(multiple_ten,l)))"
   ]
  },
  {
   "cell_type": "code",
   "execution_count": 12,
   "id": "55135298",
   "metadata": {},
   "outputs": [
    {
     "name": "stdout",
     "output_type": "stream",
     "text": [
      "[11, 12, 13, 14, 15, 16, 17, 18, 19, 20]\n"
     ]
    }
   ],
   "source": [
    "l = [1,2,3,4,5,6,7,8,9,10]\n",
    "addition_ten = lambda a : a + 10\n",
    "print(list(map(addition_ten,l)))"
   ]
  },
  {
   "cell_type": "markdown",
   "id": "616b9130",
   "metadata": {},
   "source": [
    "# Generators in python"
   ]
  },
  {
   "cell_type": "code",
   "execution_count": 31,
   "id": "7a32c4fd",
   "metadata": {},
   "outputs": [
    {
     "name": "stdout",
     "output_type": "stream",
     "text": [
      "0\n",
      "1\n",
      "2\n"
     ]
    }
   ],
   "source": [
    "def fun1():\n",
    "    for i in range(10):\n",
    "        yield i  #generators\n",
    "result = fun1()\n",
    "print(result.__next__()) #use this next method to be print  single number\n",
    "print(result.__next__())\n",
    "print(result.__next__())\n"
   ]
  },
  {
   "cell_type": "code",
   "execution_count": 37,
   "id": "4dd59d06",
   "metadata": {},
   "outputs": [
    {
     "name": "stdout",
     "output_type": "stream",
     "text": [
      "0\n",
      "1\n",
      "2\n",
      "3\n",
      "4\n",
      "5\n",
      "6\n",
      "7\n",
      "8\n",
      "9\n"
     ]
    }
   ],
   "source": [
    "def fun2():\n",
    "    for i in range(10):\n",
    "        yield i  #generators\n",
    "result = fun2()        \n",
    "for value in result: #use for loop for all range looping numbers print\n",
    "    print(value)"
   ]
  },
  {
   "cell_type": "code",
   "execution_count": 39,
   "id": "890d4aab",
   "metadata": {},
   "outputs": [
    {
     "name": "stdout",
     "output_type": "stream",
     "text": [
      "1\n",
      "2\n"
     ]
    }
   ],
   "source": [
    "def fun2():\n",
    "        yield 1 #direct values in generators\n",
    "        yield 2\n",
    "        #generators\n",
    "result = fun2()        \n",
    "for value in result: #use for loop for all range looping numbers print\n",
    "    print(value)"
   ]
  },
  {
   "cell_type": "code",
   "execution_count": null,
   "id": "50394d55",
   "metadata": {},
   "outputs": [],
   "source": []
  }
 ],
 "metadata": {
  "kernelspec": {
   "display_name": "Python 3",
   "language": "python",
   "name": "python3"
  },
  "language_info": {
   "codemirror_mode": {
    "name": "ipython",
    "version": 3
   },
   "file_extension": ".py",
   "mimetype": "text/x-python",
   "name": "python",
   "nbconvert_exporter": "python",
   "pygments_lexer": "ipython3",
   "version": "3.8.8"
  }
 },
 "nbformat": 4,
 "nbformat_minor": 5
}
