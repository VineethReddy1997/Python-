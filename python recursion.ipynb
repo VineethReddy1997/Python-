{
 "cells": [
  {
   "cell_type": "markdown",
   "id": "c6e1e963",
   "metadata": {},
   "source": [
    "# recursion:"
   ]
  },
  {
   "cell_type": "raw",
   "id": "5a636c41",
   "metadata": {},
   "source": [
    "recursion:\n",
    "calling a function with in the same function\n",
    "Function creating \n",
    "Function calling\n"
   ]
  },
  {
   "cell_type": "code",
   "execution_count": 5,
   "id": "07d23f56",
   "metadata": {},
   "outputs": [
    {
     "name": "stdout",
     "output_type": "stream",
     "text": [
      "enter any value: 10\n",
      "55\n"
     ]
    }
   ],
   "source": [
    "# calculating the sum of first n natural numbers using recursion\n",
    "def my_function(n): # n is no of natuaral numbers\n",
    "    if n==0:\n",
    "        return 0\n",
    "    return my_function(n-1)+n #backward calculation like as for loop and when n is 0 then brek the progam execution\n",
    "\n",
    "\n",
    "n= int (input('enter any value: '))\n",
    "answer = my_function(n)\n",
    "print(answer)"
   ]
  },
  {
   "cell_type": "code",
   "execution_count": null,
   "id": "40532375",
   "metadata": {},
   "outputs": [],
   "source": []
  }
 ],
 "metadata": {
  "kernelspec": {
   "display_name": "Python 3",
   "language": "python",
   "name": "python3"
  },
  "language_info": {
   "codemirror_mode": {
    "name": "ipython",
    "version": 3
   },
   "file_extension": ".py",
   "mimetype": "text/x-python",
   "name": "python",
   "nbconvert_exporter": "python",
   "pygments_lexer": "ipython3",
   "version": "3.8.8"
  }
 },
 "nbformat": 4,
 "nbformat_minor": 5
}
