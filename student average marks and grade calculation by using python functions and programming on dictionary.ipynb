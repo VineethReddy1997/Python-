{
 "cells": [
  {
   "cell_type": "code",
   "execution_count": null,
   "id": "f62c60c1",
   "metadata": {},
   "outputs": [],
   "source": [
    "def get_grade(avg_marks):\n",
    "    if avg_marks >=90 and avg_marks <=100:\n",
    "        return \"A\"\n",
    "    \n",
    "    elif avg_marks >=80 and avg_marks <=89:\n",
    "        return \"B\"\n",
    "    \n",
    "    elif avg_marks >=70 and avg_marks <=79:\n",
    "        return \"C\"\n",
    "    \n",
    "    elif avg_marks >=60 and avg_marks <=69:\n",
    "        return \"D\"\n",
    "    \n",
    "    else :\n",
    "        return \"E\"\n",
    "    \n",
    "\n",
    "def get_avg(marks_list):\n",
    "    sum = 0\n",
    "    n = len(marks_list)\n",
    "    for i in range(0,n):\n",
    "        sum = sum + marks_list[i]\n",
    "    return sum/n\n",
    "\n",
    "def main():\n",
    "    no_of_students = int(input('Enter No Of Student: '))\n",
    "    name_list = []\n",
    "    avg_list = []\n",
    "    for i in range (0,no_of_students):\n",
    "        name = input('Enter the student name ')\n",
    "        marks_list = list(map(int,input('Enter your 6 subjects marks').split(' ')))\n",
    "        name_list.append(name)\n",
    "        avg_list.append(get_avg(marks_list))\n",
    "        \n",
    "    for i in range(0,no_of_students):\n",
    "                     print('--------------------------')\n",
    "                     print('Name : ',name_list[i])\n",
    "                     print('Avg Marks :',avg_list[i])\n",
    "                     print('Grade :',get_grade(avg_list[i]))\n",
    "                     \n",
    "                     \n",
    "    \n",
    "                     \n",
    "if __name__ == '__main__':\n",
    "    main()"
   ]
  },
  {
   "cell_type": "code",
   "execution_count": null,
   "id": "366d2023",
   "metadata": {},
   "outputs": [],
   "source": []
  },
  {
   "cell_type": "code",
   "execution_count": null,
   "id": "fa647439",
   "metadata": {},
   "outputs": [],
   "source": []
  },
  {
   "cell_type": "raw",
   "id": "01be729c",
   "metadata": {},
   "source": [
    "programm on dictionary \n",
    "\n",
    "who is the best cricketer in india team\n",
    "how many members are voting will be showing polling"
   ]
  },
  {
   "cell_type": "code",
   "execution_count": null,
   "id": "9e318290",
   "metadata": {},
   "outputs": [],
   "source": [
    "data =['virat','virat','virat','virat','virat','virat','dhoni','dhoni','dhoni','dhoni','dhoni','dhoni',\n",
    "      'dhoni','dhoni','dhoni','dhoni','dhoni','dhoni','dhoni','dhoni','dhoni','dhoni','dhoni','dhoni','rohit',\n",
    "      'rohit','rohit','rohit','rohit','rohit','rohit','rohit','rohit','rohit','pandya','pandya','pandya','pandya',\n",
    "       'pandya','pandya','pandya','pandya','pandya','pandya','pandya','KL.Rahul','KL.Rahul','KL.Rahul','KL.Rahul',\n",
    "       'KL.Rahul','KL.Rahul','KL.Rahul','KL.Rahul','KL.Rahul','KL.Rahul','jadeja','jadeja','jadeja','jadeja','jadeja',\n",
    "       'jadeja','jadeja','jadeja','jadeja','jadeja','jadeja','jadeja','jadeja','jadeja']\n",
    "\n"
   ]
  },
  {
   "cell_type": "code",
   "execution_count": null,
   "id": "bc386998",
   "metadata": {},
   "outputs": [],
   "source": [
    "my_dic = {}\n",
    "\n",
    "for i in range(0,len(data)):\n",
    "    temp = my_dic.get(data[i])\n",
    "    if temp is None:\n",
    "        my_dic[data[i]] = 1\n",
    "    else :\n",
    "        my_dic[data[i]] = temp + 1\n",
    "        \n",
    "for player_name,votes in my_dic.items():\n",
    "    print(player_name ,'   :',votes)"
   ]
  },
  {
   "cell_type": "code",
   "execution_count": null,
   "id": "b330cfc2",
   "metadata": {},
   "outputs": [],
   "source": []
  }
 ],
 "metadata": {
  "kernelspec": {
   "display_name": "Python 3",
   "language": "python",
   "name": "python3"
  },
  "language_info": {
   "codemirror_mode": {
    "name": "ipython",
    "version": 3
   },
   "file_extension": ".py",
   "mimetype": "text/x-python",
   "name": "python",
   "nbconvert_exporter": "python",
   "pygments_lexer": "ipython3",
   "version": "3.8.8"
  }
 },
 "nbformat": 4,
 "nbformat_minor": 5
}
