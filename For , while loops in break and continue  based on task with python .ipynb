{
 "cells": [
  {
   "cell_type": "markdown",
   "id": "914e0d93",
   "metadata": {},
   "source": [
    "Total sum calculation use with for loop "
   ]
  },
  {
   "cell_type": "code",
   "execution_count": null,
   "id": "10a4867e",
   "metadata": {},
   "outputs": [],
   "source": [
    "l = [10,20,30,40,50,60,70,80,90,100]\n",
    "\n",
    "s = 0\n",
    "\n",
    "for value in l:\n",
    "    s= s + value\n",
    "print('answer is ',s)"
   ]
  },
  {
   "cell_type": "code",
   "execution_count": null,
   "id": "17bd7911",
   "metadata": {},
   "outputs": [],
   "source": []
  },
  {
   "cell_type": "markdown",
   "id": "11c09e89",
   "metadata": {},
   "source": [
    "Mathematic Tables Creation  using For loop"
   ]
  },
  {
   "cell_type": "code",
   "execution_count": null,
   "id": "6183086e",
   "metadata": {},
   "outputs": [],
   "source": [
    "table_num = int(input('Ente table number: ')) # input table number\n",
    "\n",
    "for values in range(1,21):        #range of values\n",
    "    print(table_num, '*' ,values ,'=',table_num*values)   #multiplication  with table_num * values"
   ]
  },
  {
   "cell_type": "code",
   "execution_count": null,
   "id": "b9bb0f32",
   "metadata": {},
   "outputs": [],
   "source": []
  },
  {
   "cell_type": "markdown",
   "id": "bac81bfd",
   "metadata": {},
   "source": [
    "While loop condition \n"
   ]
  },
  {
   "cell_type": "code",
   "execution_count": null,
   "id": "f68cc65a",
   "metadata": {},
   "outputs": [],
   "source": [
    "i = 0\n",
    "while i<10: #when condition is true loop will be continued infinity and condition is false loop will be stopped\n",
    "    print('hello, Vineeth Reddy')   # printing Statement\n",
    "    i = i+1              #increment with +1  "
   ]
  },
  {
   "cell_type": "code",
   "execution_count": null,
   "id": "710c60d2",
   "metadata": {},
   "outputs": [],
   "source": []
  },
  {
   "cell_type": "markdown",
   "id": "d667b9e4",
   "metadata": {},
   "source": [
    "Break , Continue and pass  Statements in looping statements"
   ]
  },
  {
   "cell_type": "markdown",
   "id": "1f8332d8",
   "metadata": {},
   "source": [
    "checking user _name in list of user_names"
   ]
  },
  {
   "cell_type": "code",
   "execution_count": 4,
   "id": "11d9367f",
   "metadata": {},
   "outputs": [
    {
     "name": "stdout",
     "output_type": "stream",
     "text": [
      "he / she is present in user_names list\n"
     ]
    }
   ],
   "source": [
    "User_names = ['vineeth','uday','sai','venu','amulya','harish','praneeth'] #list of names\n",
    "\n",
    "is_present=False  # declaration \n",
    "for name in User_names: #for loop in user_names\n",
    "    if name == 'sai':   #condition applied\n",
    "        is_present = True # incase user in list thent its True\n",
    "        break    #incase the person name find in certain place after aplied break statement and program will be stopped \n",
    "    \n",
    "if is_present == True:     # weather condition  is true then  printing this statement  \n",
    "    print(\"he / she is present in user_names list\")\n",
    "    \n",
    "else:       #weather condition False then  printing this statement \n",
    "    print(\"he / she is not  present in user_names list\")"
   ]
  },
  {
   "cell_type": "code",
   "execution_count": null,
   "id": "e5967cfd",
   "metadata": {},
   "outputs": [],
   "source": []
  },
  {
   "cell_type": "markdown",
   "id": "366a9b6c",
   "metadata": {},
   "source": [
    "Continue Statement in for loop"
   ]
  },
  {
   "cell_type": "code",
   "execution_count": 13,
   "id": "b70dbcb5",
   "metadata": {},
   "outputs": [
    {
     "name": "stdout",
     "output_type": "stream",
     "text": [
      "1\n",
      "2\n",
      "3\n",
      "4\n",
      "6\n",
      "7\n",
      "8\n",
      "9\n"
     ]
    }
   ],
   "source": [
    "for value in range(1,10): #for loop then ranhe of 1,10\n",
    "    if value == 5: #condition is true\n",
    "        continue   #this continue statement will be skipped when condition is true value and after then will continue the next exectuion step\n",
    "    print(value)\n",
    "    pass           # when we have to open a block of code and nothing to write code then we will pass statement will be write after then program will be with executed old code asitise"
   ]
  },
  {
   "cell_type": "code",
   "execution_count": 16,
   "id": "26557c69",
   "metadata": {},
   "outputs": [
    {
     "name": "stdout",
     "output_type": "stream",
     "text": [
      "vineeth\n"
     ]
    }
   ],
   "source": [
    "print('vineeth')\n",
    "pass"
   ]
  },
  {
   "cell_type": "code",
   "execution_count": null,
   "id": "6fb29cf8",
   "metadata": {},
   "outputs": [],
   "source": []
  },
  {
   "cell_type": "code",
   "execution_count": null,
   "id": "09d31959",
   "metadata": {},
   "outputs": [],
   "source": []
  }
 ],
 "metadata": {
  "kernelspec": {
   "display_name": "Python 3",
   "language": "python",
   "name": "python3"
  },
  "language_info": {
   "codemirror_mode": {
    "name": "ipython",
    "version": 3
   },
   "file_extension": ".py",
   "mimetype": "text/x-python",
   "name": "python",
   "nbconvert_exporter": "python",
   "pygments_lexer": "ipython3",
   "version": "3.8.8"
  }
 },
 "nbformat": 4,
 "nbformat_minor": 5
}
