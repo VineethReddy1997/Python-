{
 "cells": [
  {
   "cell_type": "markdown",
   "id": "d6dd0114",
   "metadata": {},
   "source": [
    "# Polymorphism"
   ]
  },
  {
   "cell_type": "raw",
   "id": "b8333989",
   "metadata": {},
   "source": [
    "poly means many \n",
    "morph = forms \n",
    "so polymorhism is any logic or methods implementing to many forms "
   ]
  },
  {
   "cell_type": "raw",
   "id": "3951f251",
   "metadata": {},
   "source": [
    "types of Polymorphism\n",
    " 1) method of overloading - we will take same function have two times in one class \n",
    " 2) method of overriding  - we wil take a function in parent class and that function will same as to taken in childc class\n",
    "                             (same function taken by different class)\n",
    "    \n"
   ]
  },
  {
   "cell_type": "markdown",
   "id": "9d28c00b",
   "metadata": {},
   "source": [
    "# Method overloading"
   ]
  },
  {
   "cell_type": "code",
   "execution_count": 28,
   "id": "8be4185b",
   "metadata": {},
   "outputs": [
    {
     "name": "stdout",
     "output_type": "stream",
     "text": [
      "this is function 0 0 0\n",
      "this is function 10 0 0\n",
      "this is function 10 20 0\n",
      "this is function 10 20 30\n"
     ]
    }
   ],
   "source": [
    "## use this none or 0 by default data type to overcome this overloading method\n",
    "\n",
    "class Methodoverload:     #class creation \n",
    "    def fun1(self,a =0,b = 0,c=0):       # function creation with multiple parameters take  default    \n",
    "        print('this is function',a,b,c)  # printing the parameters from function \n",
    "        \n",
    "        \n",
    "        \n",
    "obj = Methodoverload()#creation obj for calling class \n",
    "obj.fun1()\n",
    "obj.fun1(10)          # printing the function take one parameters\n",
    "obj.fun1(10,20)        # printing the function take two parameters\n",
    "obj.fun1(10,20,30)     # printing the function take three parameters"
   ]
  },
  {
   "cell_type": "code",
   "execution_count": null,
   "id": "e364a05b",
   "metadata": {},
   "outputs": [],
   "source": [
    "\n"
   ]
  },
  {
   "cell_type": "markdown",
   "id": "c6104270",
   "metadata": {},
   "source": [
    "# Method Overriding"
   ]
  },
  {
   "cell_type": "code",
   "execution_count": 38,
   "id": "8b103568",
   "metadata": {},
   "outputs": [
    {
     "name": "stdout",
     "output_type": "stream",
     "text": [
      "this is child\n",
      "this is parent\n"
     ]
    }
   ],
   "source": [
    "## use this super() to overcome this overriding method\n",
    "\n",
    "class Methodoverriding: #crating class \n",
    "    def fun1(self):  #function creation\n",
    "        print ('this is parent')\n",
    "        \n",
    "class Method(Methodoverriding): #creation child class \n",
    "    def fun1(self):         # same name function creation\n",
    "        print('this is child')\n",
    "        super().fun1()     #  forcefully calling same function in parent class we can use this funtion\n",
    "    \n",
    "obj = Method() #creation obj from child class As  (Method)\n",
    "obj.fun1()  #printing funtion"
   ]
  },
  {
   "cell_type": "code",
   "execution_count": null,
   "id": "afc30873",
   "metadata": {},
   "outputs": [],
   "source": []
  }
 ],
 "metadata": {
  "kernelspec": {
   "display_name": "Python 3",
   "language": "python",
   "name": "python3"
  },
  "language_info": {
   "codemirror_mode": {
    "name": "ipython",
    "version": 3
   },
   "file_extension": ".py",
   "mimetype": "text/x-python",
   "name": "python",
   "nbconvert_exporter": "python",
   "pygments_lexer": "ipython3",
   "version": "3.8.8"
  }
 },
 "nbformat": 4,
 "nbformat_minor": 5
}
