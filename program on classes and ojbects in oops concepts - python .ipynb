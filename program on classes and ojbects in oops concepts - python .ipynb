{
 "cells": [
  {
   "cell_type": "raw",
   "id": "e28c990f",
   "metadata": {},
   "source": [
    "oops concepts mainly  worked base on class and ojects\n",
    "\n",
    "classes is user defined datatypes ,accordin to requirements given user defined \n",
    "In thiss class one constructor and many functions will be creating \n",
    "and next we have to cfreation of ojects for calling the methods and whole class \n",
    "\n",
    "---------------------------------------------------------------------------------------------------------------------------\n",
    "Inside the The class:\n",
    "Class -> variable and methods\n",
    " 1) variables types:\n",
    " a)static variable -> it is only assigning with whole class \n",
    " b)normal variables -> assign to all functions in constructor\n",
    " \n",
    "inside the class :\n",
    "def __init__(self,parameters or arguments) is a contructor is there and without constructor there is no classes and objects\n",
    "\n",
    "methods -> definiing functions\n",
    "\n",
    "types of methods \n",
    "1)normal oject use methods\n",
    "2)static methods\n",
    "3) class methods\n",
    "objects -> single and multiple objectives creations for class and functions calling purpose\n",
    "printing object statement\n",
    "---------------------------------------------------------------------------------------------------------------------------"
   ]
  },
  {
   "cell_type": "code",
   "execution_count": null,
   "id": "94ed3288",
   "metadata": {},
   "outputs": [],
   "source": []
  },
  {
   "cell_type": "raw",
   "id": "8a68edf9",
   "metadata": {},
   "source": [
    "problem : \n",
    "Amazon shopping for buying mobiles with discount and we have get the total price\n",
    "after the caslculating the actual price and discount percentage  on mobile phones in amazon"
   ]
  },
  {
   "cell_type": "code",
   "execution_count": 14,
   "id": "f2e2a2b5",
   "metadata": {},
   "outputs": [
    {
     "name": "stdout",
     "output_type": "stream",
     "text": [
      "___________________________________________\n",
      "At Amzon overall 5% discount \n",
      "___________________________________________\n",
      "IPhone Mobile  Price is =  25550.0\n",
      "Samsung Mobile Price is =  24000.0\n",
      "MI note10 Mobile price is =  14000.0\n",
      "Vivo V3 Mobile price is = 18750.0\n",
      "-------------------------------------\n",
      "___________________________________________\n",
      "At Amazon overall 10% discount \n",
      "___________________________________________\n",
      "IPhone Mobile  Price is =  23800.0\n",
      "Samsung Mobile Price is =  22500.0\n",
      "MI note10 Mobile price is =  13000.0\n",
      "Vivo V3 Mobile price is = 17500.0\n",
      "-------------------------------------\n"
     ]
    }
   ],
   "source": [
    "class Amazon:      #class creation\n",
    "    overall_discount = 5\n",
    "    \n",
    "    def __init__(self,p_id,p_name,p_price,p_discount): #constructor creation\n",
    "        self.id = p_id\n",
    "        self.name = p_name\n",
    "        self.price = p_price\n",
    "        self.discount = p_discount\n",
    "        \n",
    "        \n",
    "    def get_final_price(self): # object method creation for defining the function\n",
    "        final_price = self.price - self.price*self.discount/100 - Amazon.overall_discount*self.price/100\n",
    "        return final_price\n",
    "    \n",
    "    \n",
    "    \n",
    "    @classmethod              #class method this method links only class \n",
    "    def change_overall_discount(clc,discount):\n",
    "        clc.overall_discount = discount\n",
    "        \n",
    "    \n",
    "p1 = Amazon(1,'IphoneSE',35000,22)  #object creation\n",
    "p2 = Amazon(2,'Samsung',30000,15)   #object creation\n",
    "p3 = Amazon(3,'MI note10',20000,25)  #object creation  \n",
    "p4 = Amazon(4,'Vivo V3',25000,20)    #object creation\n",
    "print('___________________________________________')\n",
    "print('At Amzon overall 5% discount ')\n",
    "print('___________________________________________')\n",
    "\n",
    "print('IPhone Mobile  Price is = ', p1.get_final_price())  #printing the object  statement\n",
    "print('Samsung Mobile Price is = ',p2.get_final_price())   #printing the object  statement\n",
    "print('MI note10 Mobile price is = ',p3.get_final_price())  #printing the object  statement\n",
    "print('Vivo V3 Mobile price is =',p4.get_final_price())     #printing the object  statement\n",
    " \n",
    "\n",
    "print('-------------------------------------')\n",
    "    \n",
    "Amazon.change_overall_discount(10)\n",
    "print('___________________________________________')\n",
    "print('At Amazon overall 10% discount ')\n",
    "print('___________________________________________')\n",
    "print('IPhone Mobile  Price is = ', p1.get_final_price())  #printing the object  statement\n",
    "print('Samsung Mobile Price is = ',p2.get_final_price())   #printing the object  statement\n",
    "print('MI note10 Mobile price is = ',p3.get_final_price())  #printing the object  statement\n",
    "print('Vivo V3 Mobile price is =',p4.get_final_price())\n",
    "\n",
    "print('-------------------------------------')"
   ]
  },
  {
   "cell_type": "code",
   "execution_count": null,
   "id": "1b9d4668",
   "metadata": {},
   "outputs": [],
   "source": []
  }
 ],
 "metadata": {
  "kernelspec": {
   "display_name": "Python 3",
   "language": "python",
   "name": "python3"
  },
  "language_info": {
   "codemirror_mode": {
    "name": "ipython",
    "version": 3
   },
   "file_extension": ".py",
   "mimetype": "text/x-python",
   "name": "python",
   "nbconvert_exporter": "python",
   "pygments_lexer": "ipython3",
   "version": "3.8.8"
  }
 },
 "nbformat": 4,
 "nbformat_minor": 5
}
