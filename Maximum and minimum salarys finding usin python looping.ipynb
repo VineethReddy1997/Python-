{
 "cells": [
  {
   "cell_type": "raw",
   "id": "05683343",
   "metadata": {},
   "source": [
    "find the maximum salary of employee  in the given list of avg_salary"
   ]
  },
  {
   "cell_type": "code",
   "execution_count": 14,
   "id": "4f23123e",
   "metadata": {},
   "outputs": [
    {
     "name": "stdout",
     "output_type": "stream",
     "text": [
      "max_value:  32000\n"
     ]
    }
   ],
   "source": [
    "avg_salary = [12000,15000,15500,20000,25050,24000,32000,22000,21000,30000]\n",
    "\n",
    "max_value = -1\n",
    "n = len(avg_salary)\n",
    "\n",
    "for salary in range(0,n):\n",
    "    \n",
    "    if avg_salary[salary] > max_value:\n",
    "        \n",
    "        max_value = avg_salary[salary]\n",
    "        \n",
    "print('Maximum salary of employee in our campany: ',max_value)"
   ]
  },
  {
   "cell_type": "code",
   "execution_count": null,
   "id": "fcf2169f",
   "metadata": {},
   "outputs": [],
   "source": []
  },
  {
   "cell_type": "raw",
   "id": "5cc2d5fc",
   "metadata": {},
   "source": [
    "find the minimum salary of employee in the given list of avg_salary"
   ]
  },
  {
   "cell_type": "code",
   "execution_count": 17,
   "id": "15b83892",
   "metadata": {},
   "outputs": [
    {
     "name": "stdout",
     "output_type": "stream",
     "text": [
      "Minimum salary of employee in our company:  12000\n"
     ]
    }
   ],
   "source": [
    "avg_salary = [12000,15000,15500,20000,25050,24000,32000,22000,21000,30000]\n",
    "\n",
    "min_value = 100000\n",
    "n = len(avg_salary)\n",
    "\n",
    "for salary in range(0,n):\n",
    "    \n",
    "    if avg_salary[salary] < min_value:\n",
    "        \n",
    "        min_value = avg_salary[salary]\n",
    "        \n",
    "print('Minimum salary of employee in our company: ',min_value)"
   ]
  },
  {
   "cell_type": "code",
   "execution_count": null,
   "id": "83ece503",
   "metadata": {},
   "outputs": [],
   "source": []
  }
 ],
 "metadata": {
  "kernelspec": {
   "display_name": "Python 3",
   "language": "python",
   "name": "python3"
  },
  "language_info": {
   "codemirror_mode": {
    "name": "ipython",
    "version": 3
   },
   "file_extension": ".py",
   "mimetype": "text/x-python",
   "name": "python",
   "nbconvert_exporter": "python",
   "pygments_lexer": "ipython3",
   "version": "3.8.8"
  }
 },
 "nbformat": 4,
 "nbformat_minor": 5
}
